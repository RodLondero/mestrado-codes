{
  "nbformat": 4,
  "nbformat_minor": 0,
  "metadata": {
    "colab": {
      "name": "Calculos_VCB.ipynb",
      "provenance": [],
      "collapsed_sections": [],
      "toc_visible": true,
      "authorship_tag": "ABX9TyP86PPdfn3uEgztzWyFiesp",
      "include_colab_link": true
    },
    "kernelspec": {
      "name": "python3",
      "display_name": "Python 3"
    }
  },
  "cells": [
    {
      "cell_type": "markdown",
      "metadata": {
        "id": "view-in-github",
        "colab_type": "text"
      },
      "source": [
        "<a href=\"https://colab.research.google.com/github/RodLondero/Mestrado/blob/main/Calculos_VCB.ipynb\" target=\"_parent\"><img src=\"https://colab.research.google.com/assets/colab-badge.svg\" alt=\"Open In Colab\"/></a>"
      ]
    },
    {
      "cell_type": "markdown",
      "metadata": {
        "id": "Az5w6KzyrFAv"
      },
      "source": [
        "### Parâmetros\n",
        "\n",
        "Parâmetro            | Valor | Unidade\n",
        ":--------------------| :-----| :------\n",
        "Diâmetro do condutor | 19.05 | mm\n",
        "Tensão 3F            | 0.48  | kV RMS\n",
        "Corrente de falta 3F | 45    | kA sym RMS\n",
        "Gap                  | 32    | mm\n",
        "Distância de trabalho| 609.6 | mm\n",
        "Largura              | 610   | mm\n",
        "Altura               | 610   | mm\n",
        "Profundidade         | 254   | mm\n",
        "\n"
      ]
    },
    {
      "cell_type": "code",
      "metadata": {
        "id": "PeLbjx8frBkS",
        "outputId": "8910a889-b009-4b20-8d8f-43da6e727664",
        "colab": {
          "base_uri": "https://localhost:8080/"
        }
      },
      "source": [
        "import math as m\n",
        "\n",
        "d   = 19.05e-3\n",
        "r   = d/2\n",
        "A   = m.pi * r**2\n",
        "Voc = 0.48e3\n",
        "i   = 45e3\n",
        "\n",
        "print(\"Diâmetro: \", d)\n",
        "print(\"Raio: \", r)\n",
        "print(\"Área: {:.2f}\".format(A))\n",
        "print(\"Voc: \", Voc)\n",
        "print(\"Irms: \", i)"
      ],
      "execution_count": null,
      "outputs": [
        {
          "output_type": "stream",
          "text": [
            "Diâmetro:  0.01905\n",
            "Raio:  0.009525\n",
            "Área: 0.00\n",
            "Voc:  480.0\n",
            "Irms:  45000.0\n"
          ],
          "name": "stdout"
        }
      ]
    },
    {
      "cell_type": "markdown",
      "metadata": {
        "id": "8U-e3Y4zuQ2G"
      },
      "source": [
        "## Cálculos\n",
        "\n",
        "*   **Densidade de Corrente**:  $ J = \\frac{i}{A}$\n"
      ]
    },
    {
      "cell_type": "code",
      "metadata": {
        "id": "cxFkARqDwZcr",
        "outputId": "2d32566c-e944-4cd8-8923-305388b9d2d0",
        "colab": {
          "base_uri": "https://localhost:8080/"
        }
      },
      "source": [
        "J = i/A\n",
        "print(\"J: {:.4e}\".format(J))"
      ],
      "execution_count": null,
      "outputs": [
        {
          "output_type": "stream",
          "text": [
            "J: 1.5788e+08\n"
          ],
          "name": "stdout"
        }
      ]
    }
  ]
}